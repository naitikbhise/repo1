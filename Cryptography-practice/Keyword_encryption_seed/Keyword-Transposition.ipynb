{
 "cells": [
  {
   "cell_type": "code",
   "execution_count": 3,
   "metadata": {},
   "outputs": [
    {
     "name": "stdout",
     "output_type": "stream",
     "text": [
      "Please give the number of seeds2\n",
      "seedSPORT\n",
      "Veuillez Taper le message à envoyer:LDXTW KXDTL NBSFX BFOII LNBHG ODDWN BWK\n",
      "Encrypted case:ILOVE SOLVI NGPRO GRAMM INGCH ALLEN GES\n",
      "seedSECRET\n",
      "Veuillez Taper le message à envoyer:LDXTW KXDTL NBSFX BFOII LNBHG ODDWN BWK\n",
      "Encrypted case:XBOVE MOBVX IGPLO GLDHH XIGRW DBBEI GEM\n"
     ]
    }
   ],
   "source": [
    "n = int(input(\"Please give the number of seeds\"))\n",
    "if n==10:\n",
    "    n =1\n",
    "while (n!=0):\n",
    "    w = input(\"seed\")\n",
    "\n",
    "    result = []\n",
    "    for c in w:\n",
    "        if c not in result:\n",
    "            result.append(c)\n",
    "    l = len(result)\n",
    "    m = l\n",
    "    a = 65\n",
    "    while (m!=26):\n",
    "        while chr(a) in result:\n",
    "            a+=1\n",
    "        result.append(chr(a))\n",
    "        m+=1\n",
    "    rim = int((26 - 26%l)/l)\n",
    "    if 26%l == 0:\n",
    "        kam = rim\n",
    "    else:\n",
    "        kam = rim + 1\n",
    "        for i in range(l - 26%l):\n",
    "            result.append(\" \")\n",
    "    #print(rim)\n",
    "    #for i in range(l - 26%l):\n",
    "        #result.append(\" \")\n",
    "    def swap(i,j):\n",
    "        #print(\"i: \"+str(i)+\" j: \"+str(j))\n",
    "        tmp = result[j]\n",
    "        result[j]=result[i]\n",
    "        result[i]=tmp\n",
    "        \n",
    "    for i in range(l):\n",
    "        for j in range(i):\n",
    "            #print(\"Result : \",result[0:6])\n",
    "            #print(\"Result 2 : \",result[6:12])\n",
    "            if ord(result[j])>ord(result[i]):\n",
    "                #print(\"Kam : \",kam)\n",
    "                for k in range(kam):\n",
    "                    swap(i+k*l,j+k*l)\n",
    "    #print (result)\n",
    "    otp = []\n",
    "    e=0\n",
    "    #print(\"result=\",result)\n",
    "    while (e!=l):\n",
    "        #print(\"rim \",rim)\n",
    "        for i in range(kam):\n",
    "            #print(str(i*l+e)+\" e = \"+str(e))\n",
    "            otp.append(result[i*l+e])\n",
    "        e+=1\n",
    "    otp = [x for x in otp if x != ' ']\n",
    "    d = {}\n",
    "    for i in range(26):\n",
    "        d[otp[i]]=chr(65+i)\n",
    "    msg = input(\"Veuillez Taper le message à envoyer(Please type the message to send):\")\n",
    "    res = []\n",
    "    for i in range(len(msg)):\n",
    "        if msg[i]!=\" \":\n",
    "            res.append(d[msg[i]])\n",
    "        else:\n",
    "            res.append(\" \")\n",
    "    print (\"Encrypted case:\"+\"\".join(res))\n",
    "    n -= 1"
   ]
  },
  {
   "cell_type": "code",
   "execution_count": null,
   "metadata": {},
   "outputs": [],
   "source": []
  }
 ],
 "metadata": {
  "kernelspec": {
   "display_name": "Python 3",
   "language": "python",
   "name": "python3"
  },
  "language_info": {
   "codemirror_mode": {
    "name": "ipython",
    "version": 3
   },
   "file_extension": ".py",
   "mimetype": "text/x-python",
   "name": "python",
   "nbconvert_exporter": "python",
   "pygments_lexer": "ipython3",
   "version": "3.6.5"
  }
 },
 "nbformat": 4,
 "nbformat_minor": 2
}
