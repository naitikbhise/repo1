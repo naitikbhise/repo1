{
 "cells": [
  {
   "cell_type": "code",
   "execution_count": 7,
   "metadata": {},
   "outputs": [
    {
     "name": "stdout",
     "output_type": "stream",
     "text": [
      "DONE [IMPORT NECESSARY LIBRARIES]\n"
     ]
    }
   ],
   "source": [
    "## MANDATORY \n",
    "## [IMPORT NECESSARY LIBRARIES]\n",
    "\n",
    "import gensim\n",
    "import nltk\n",
    "import sklearn\n",
    "import pandas as pd\n",
    "import numpy as np\n",
    "import matplotlib\n",
    "\n",
    "import re\n",
    "import codecs\n",
    "import itertools\n",
    "import matplotlib.pyplot as plt\n",
    "\n",
    "print ('DONE [IMPORT NECESSARY LIBRARIES]')\n"
   ]
  },
  {
   "cell_type": "code",
   "execution_count": 8,
   "metadata": {},
   "outputs": [
    {
     "name": "stdout",
     "output_type": "stream",
     "text": [
      "DONE - [ETL] Import Data\n"
     ]
    }
   ],
   "source": [
    "## MANDATORY \n",
    "## [ETL] Import Data\n",
    "\n",
    "input_file = codecs.open(\"socialmedia_relevant_cols.csv\", \"r\",encoding='utf-8', errors='replace')\n",
    "\n",
    "# read_csv will turn CSV files into dataframes\n",
    "questions = pd.read_csv(input_file)\n",
    "\n",
    "#let's give names to the columns of our dataframe\n",
    "questions.columns=['text', 'choose_one', 'class_label']\n",
    "\n",
    "print ('DONE - [ETL] Import Data')"
   ]
  },
  {
   "cell_type": "code",
   "execution_count": 9,
   "metadata": {},
   "outputs": [
    {
     "name": "stdout",
     "output_type": "stream",
     "text": [
      "DONE - [PREPROCESS] Text Cleaning\n"
     ]
    }
   ],
   "source": [
    "## MANDATORY \n",
    "## [PREPROCESS] Text Cleaning\n",
    "\n",
    "def standardize_text(df, text_field):\n",
    "    # normalize by turning all letters into lowercase\n",
    "    df[text_field] = df[text_field].str.lower()\n",
    "    # get rid of URLS\n",
    "    df[text_field] = df[text_field].apply(lambda elem: re.sub(r\"http\\S+\", \"\", elem))  \n",
    "    return df\n",
    "\n",
    "# call the text cleaning function\n",
    "clean_questions = standardize_text(questions, \"text\")\n",
    "\n",
    "print ('DONE - [PREPROCESS] Text Cleaning')"
   ]
  },
  {
   "cell_type": "code",
   "execution_count": 11,
   "metadata": {},
   "outputs": [
    {
     "data": {
      "text/html": [
       "<div>\n",
       "<style scoped>\n",
       "    .dataframe tbody tr th:only-of-type {\n",
       "        vertical-align: middle;\n",
       "    }\n",
       "\n",
       "    .dataframe tbody tr th {\n",
       "        vertical-align: top;\n",
       "    }\n",
       "\n",
       "    .dataframe thead th {\n",
       "        text-align: right;\n",
       "    }\n",
       "</style>\n",
       "<table border=\"1\" class=\"dataframe\">\n",
       "  <thead>\n",
       "    <tr style=\"text-align: right;\">\n",
       "      <th></th>\n",
       "      <th>text</th>\n",
       "      <th>choose_one</th>\n",
       "      <th>class_label</th>\n",
       "    </tr>\n",
       "  </thead>\n",
       "  <tbody>\n",
       "    <tr>\n",
       "      <th>0</th>\n",
       "      <td>just happened a terrible car crash</td>\n",
       "      <td>Relevant</td>\n",
       "      <td>1</td>\n",
       "    </tr>\n",
       "    <tr>\n",
       "      <th>1</th>\n",
       "      <td>our deeds are the reason of this #earthquake m...</td>\n",
       "      <td>Relevant</td>\n",
       "      <td>1</td>\n",
       "    </tr>\n",
       "    <tr>\n",
       "      <th>2</th>\n",
       "      <td>heard about #earthquake is different cities, s...</td>\n",
       "      <td>Relevant</td>\n",
       "      <td>1</td>\n",
       "    </tr>\n",
       "    <tr>\n",
       "      <th>3</th>\n",
       "      <td>there is a forest fire at spot pond, geese are...</td>\n",
       "      <td>Relevant</td>\n",
       "      <td>1</td>\n",
       "    </tr>\n",
       "    <tr>\n",
       "      <th>4</th>\n",
       "      <td>forest fire near la ronge sask. canada</td>\n",
       "      <td>Relevant</td>\n",
       "      <td>1</td>\n",
       "    </tr>\n",
       "  </tbody>\n",
       "</table>\n",
       "</div>"
      ],
      "text/plain": [
       "                                                text choose_one  class_label\n",
       "0                 just happened a terrible car crash   Relevant            1\n",
       "1  our deeds are the reason of this #earthquake m...   Relevant            1\n",
       "2  heard about #earthquake is different cities, s...   Relevant            1\n",
       "3  there is a forest fire at spot pond, geese are...   Relevant            1\n",
       "4             forest fire near la ronge sask. canada   Relevant            1"
      ]
     },
     "execution_count": 11,
     "metadata": {},
     "output_type": "execute_result"
    }
   ],
   "source": [
    "clean_questions.head()"
   ]
  },
  {
   "cell_type": "code",
   "execution_count": 14,
   "metadata": {},
   "outputs": [
    {
     "data": {
      "text/html": [
       "<div>\n",
       "<style scoped>\n",
       "    .dataframe tbody tr th:only-of-type {\n",
       "        vertical-align: middle;\n",
       "    }\n",
       "\n",
       "    .dataframe tbody tr th {\n",
       "        vertical-align: top;\n",
       "    }\n",
       "\n",
       "    .dataframe thead th {\n",
       "        text-align: right;\n",
       "    }\n",
       "</style>\n",
       "<table border=\"1\" class=\"dataframe\">\n",
       "  <thead>\n",
       "    <tr style=\"text-align: right;\">\n",
       "      <th></th>\n",
       "      <th>text</th>\n",
       "      <th>choose_one</th>\n",
       "    </tr>\n",
       "    <tr>\n",
       "      <th>class_label</th>\n",
       "      <th></th>\n",
       "      <th></th>\n",
       "    </tr>\n",
       "  </thead>\n",
       "  <tbody>\n",
       "    <tr>\n",
       "      <th>0</th>\n",
       "      <td>6187</td>\n",
       "      <td>6187</td>\n",
       "    </tr>\n",
       "    <tr>\n",
       "      <th>1</th>\n",
       "      <td>4673</td>\n",
       "      <td>4673</td>\n",
       "    </tr>\n",
       "    <tr>\n",
       "      <th>2</th>\n",
       "      <td>16</td>\n",
       "      <td>16</td>\n",
       "    </tr>\n",
       "  </tbody>\n",
       "</table>\n",
       "</div>"
      ],
      "text/plain": [
       "             text  choose_one\n",
       "class_label                  \n",
       "0            6187        6187\n",
       "1            4673        4673\n",
       "2              16          16"
      ]
     },
     "execution_count": 14,
     "metadata": {},
     "output_type": "execute_result"
    }
   ],
   "source": [
    "clean_questions.groupby(\"class_label\").count()"
   ]
  },
  {
   "cell_type": "code",
   "execution_count": 15,
   "metadata": {},
   "outputs": [
    {
     "data": {
      "text/html": [
       "<div>\n",
       "<style scoped>\n",
       "    .dataframe tbody tr th:only-of-type {\n",
       "        vertical-align: middle;\n",
       "    }\n",
       "\n",
       "    .dataframe tbody tr th {\n",
       "        vertical-align: top;\n",
       "    }\n",
       "\n",
       "    .dataframe thead th {\n",
       "        text-align: right;\n",
       "    }\n",
       "</style>\n",
       "<table border=\"1\" class=\"dataframe\">\n",
       "  <thead>\n",
       "    <tr style=\"text-align: right;\">\n",
       "      <th></th>\n",
       "      <th>text</th>\n",
       "      <th>choose_one</th>\n",
       "      <th>class_label</th>\n",
       "      <th>tokens</th>\n",
       "    </tr>\n",
       "  </thead>\n",
       "  <tbody>\n",
       "    <tr>\n",
       "      <th>0</th>\n",
       "      <td>just happened a terrible car crash</td>\n",
       "      <td>Relevant</td>\n",
       "      <td>1</td>\n",
       "      <td>[just, happened, a, terrible, car, crash]</td>\n",
       "    </tr>\n",
       "    <tr>\n",
       "      <th>1</th>\n",
       "      <td>our deeds are the reason of this #earthquake m...</td>\n",
       "      <td>Relevant</td>\n",
       "      <td>1</td>\n",
       "      <td>[our, deeds, are, the, reason, of, this, earth...</td>\n",
       "    </tr>\n",
       "    <tr>\n",
       "      <th>2</th>\n",
       "      <td>heard about #earthquake is different cities, s...</td>\n",
       "      <td>Relevant</td>\n",
       "      <td>1</td>\n",
       "      <td>[heard, about, earthquake, is, different, citi...</td>\n",
       "    </tr>\n",
       "    <tr>\n",
       "      <th>3</th>\n",
       "      <td>there is a forest fire at spot pond, geese are...</td>\n",
       "      <td>Relevant</td>\n",
       "      <td>1</td>\n",
       "      <td>[there, is, a, forest, fire, at, spot, pond, g...</td>\n",
       "    </tr>\n",
       "    <tr>\n",
       "      <th>4</th>\n",
       "      <td>forest fire near la ronge sask. canada</td>\n",
       "      <td>Relevant</td>\n",
       "      <td>1</td>\n",
       "      <td>[forest, fire, near, la, ronge, sask, canada]</td>\n",
       "    </tr>\n",
       "  </tbody>\n",
       "</table>\n",
       "</div>"
      ],
      "text/plain": [
       "                                                text choose_one  class_label  \\\n",
       "0                 just happened a terrible car crash   Relevant            1   \n",
       "1  our deeds are the reason of this #earthquake m...   Relevant            1   \n",
       "2  heard about #earthquake is different cities, s...   Relevant            1   \n",
       "3  there is a forest fire at spot pond, geese are...   Relevant            1   \n",
       "4             forest fire near la ronge sask. canada   Relevant            1   \n",
       "\n",
       "                                              tokens  \n",
       "0          [just, happened, a, terrible, car, crash]  \n",
       "1  [our, deeds, are, the, reason, of, this, earth...  \n",
       "2  [heard, about, earthquake, is, different, citi...  \n",
       "3  [there, is, a, forest, fire, at, spot, pond, g...  \n",
       "4      [forest, fire, near, la, ronge, sask, canada]  "
      ]
     },
     "execution_count": 15,
     "metadata": {},
     "output_type": "execute_result"
    }
   ],
   "source": [
    "## MANDATORY\n",
    "## [PREPROCESS] Tokenize\n",
    "\n",
    "from nltk.tokenize import RegexpTokenizer\n",
    "\n",
    "tokenizer = RegexpTokenizer(r'\\w+')\n",
    "\n",
    "clean_questions[\"tokens\"] = clean_questions[\"text\"].apply(tokenizer.tokenize)\n",
    "clean_questions.head()"
   ]
  },
  {
   "cell_type": "code",
   "execution_count": 25,
   "metadata": {},
   "outputs": [
    {
     "name": "stdout",
     "output_type": "stream",
     "text": [
      "158663 words total, with a vocabulary size of 21327\n"
     ]
    }
   ],
   "source": [
    "## [EDA] Explore words and sentences\n",
    "\n",
    "all_words = [word for tokens in clean_questions[\"tokens\"] for word in tokens]\n",
    "\n",
    "sentence_lengths = [len(tokens) for tokens in clean_questions[\"tokens\"]]\n",
    "\n",
    "VOCAB = sorted(list(set(all_words)))\n",
    "\n",
    "print(\"%s words total, with a vocabulary size of %s\" % (len(all_words), len(VOCAB)))"
   ]
  },
  {
   "cell_type": "code",
   "execution_count": 23,
   "metadata": {},
   "outputs": [
    {
     "name": "stdout",
     "output_type": "stream",
     "text": [
      "['0', '00', '000', '0000', '00am', '00end', '00pm', '01', '02', '0215', '02pm', '03', '030', '032', '033', '034', '039', '04', '05', '0518', '05th', '06', '060', '061', '06jst', '07', '08', '0840728', '0853', '087809233445', '0880', '09', '0992', '0l', '0npzp', '1', '10', '100', '1000', '10000', '100000', '1000s', '1008pla', '1008planet', '100mb', '100nd', '100s', '101', '1017', '1023', '1028', '103', '105', '106', '1061thetwister', '107', '109', '10am', '10k', '10km', '10m', '10news', '10pm', '10th', '10w', '10x', '11', '11000', '11000000', '111020', '1115', '11211', '114', '1141', '1145', '1148', '115', '115film', '1179', '118', '119', '119000', '11am', '11th', '12', '120', '1200', '12000', '120000', '1200000', '120v', '1233newcastle', '1236', '124', '1245z', '125', '126', '129', '12am', '12hr']\n"
     ]
    },
    {
     "data": {
      "text/plain": [
       "[('the', 4621),\n",
       " ('a', 3109),\n",
       " ('to', 2837),\n",
       " ('in', 2808),\n",
       " ('of', 2610),\n",
       " ('i', 2511),\n",
       " ('and', 2023),\n",
       " ('s', 1403),\n",
       " ('is', 1392),\n",
       " ('you', 1287),\n",
       " ('for', 1245),\n",
       " ('on', 1238),\n",
       " ('it', 1141),\n",
       " ('my', 976),\n",
       " ('that', 853),\n",
       " ('with', 797),\n",
       " ('by', 777),\n",
       " ('at', 748),\n",
       " ('t', 723),\n",
       " ('this', 705),\n",
       " ('from', 614),\n",
       " ('are', 600),\n",
       " ('be', 596),\n",
       " ('was', 553),\n",
       " ('_', 535),\n",
       " ('have', 513),\n",
       " ('amp', 510),\n",
       " ('like', 493),\n",
       " ('as', 485),\n",
       " ('up', 471),\n",
       " ('just', 459),\n",
       " ('we', 449),\n",
       " ('me', 445),\n",
       " ('m', 439),\n",
       " ('but', 436),\n",
       " ('so', 432),\n",
       " ('not', 431),\n",
       " ('your', 429),\n",
       " ('out', 412),\n",
       " ('no', 401),\n",
       " ('all', 381),\n",
       " ('will', 372),\n",
       " ('after', 370),\n",
       " ('fire', 367),\n",
       " ('when', 365),\n",
       " ('can', 362),\n",
       " ('an', 358),\n",
       " ('if', 353),\n",
       " ('he', 351),\n",
       " ('has', 341),\n",
       " ('get', 336),\n",
       " ('new', 329),\n",
       " ('they', 327),\n",
       " ('more', 325),\n",
       " ('via', 325),\n",
       " ('about', 312),\n",
       " ('what', 311),\n",
       " ('2', 311),\n",
       " ('now', 309),\n",
       " ('or', 294),\n",
       " ('how', 293),\n",
       " ('news', 289),\n",
       " ('people', 285),\n",
       " ('one', 283),\n",
       " ('who', 271),\n",
       " ('there', 266),\n",
       " ('over', 257),\n",
       " ('don', 256),\n",
       " ('been', 249),\n",
       " ('do', 246),\n",
       " ('into', 239),\n",
       " ('re', 239),\n",
       " ('emergency', 229),\n",
       " ('video', 228),\n",
       " ('disaster', 220),\n",
       " ('would', 214),\n",
       " ('3', 202),\n",
       " ('police', 199),\n",
       " ('her', 198),\n",
       " ('his', 191),\n",
       " ('u', 189),\n",
       " ('than', 188),\n",
       " ('were', 181),\n",
       " ('still', 180),\n",
       " ('some', 179),\n",
       " ('1', 178),\n",
       " ('body', 178),\n",
       " ('suicide', 177),\n",
       " ('us', 176),\n",
       " ('why', 176),\n",
       " ('off', 171),\n",
       " ('burning', 171),\n",
       " ('storm', 171),\n",
       " ('first', 170),\n",
       " ('crash', 167),\n",
       " ('time', 167),\n",
       " ('them', 165),\n",
       " ('rt', 165),\n",
       " ('attack', 164),\n",
       " ('had', 162)]"
      ]
     },
     "execution_count": 23,
     "metadata": {},
     "output_type": "execute_result"
    }
   ],
   "source": [
    "# [EDA] Explore Vocabulary\n",
    "\n",
    "# What are the words in the vocabulary\n",
    "print (VOCAB[0:100])\n",
    "\n",
    "# What are the most commonly occuring words\n",
    "from collections import Counter\n",
    "count_all_words = Counter(all_words)\n",
    "\n",
    "# get the top 100 most common occuring words\n",
    "count_all_words.most_common(100)"
   ]
  },
  {
   "cell_type": "code",
   "execution_count": 26,
   "metadata": {},
   "outputs": [
    {
     "name": "stdout",
     "output_type": "stream",
     "text": [
      "Training set: 8700 samples\n",
      "Test set: 2176 samples\n"
     ]
    }
   ],
   "source": [
    "## MANDATORY \n",
    "## [CLASSIFY] Train test Split\n",
    "\n",
    "from sklearn.model_selection import train_test_split\n",
    "\n",
    "list_corpus = clean_questions[\"text\"]\n",
    "list_labels = clean_questions[\"class_label\"]\n",
    "\n",
    "X_train, X_test, y_train, y_test = train_test_split(list_corpus, list_labels, test_size=0.2, random_state=40)\n",
    "\n",
    "print(\"Training set: %d samples\" % len(X_train))\n",
    "print(\"Test set: %d samples\" % len(X_test))"
   ]
  },
  {
   "cell_type": "code",
   "execution_count": 29,
   "metadata": {},
   "outputs": [
    {
     "name": "stdout",
     "output_type": "stream",
     "text": [
      "10181    circus tent collapses in violent storm killing...\n",
      "Name: text, dtype: object\n"
     ]
    }
   ],
   "source": [
    "print (X_test[:1])"
   ]
  },
  {
   "cell_type": "code",
   "execution_count": 31,
   "metadata": {},
   "outputs": [
    {
     "name": "stdout",
     "output_type": "stream",
     "text": [
      "2354     0\n",
      "9734     1\n",
      "9332     0\n",
      "10831    0\n",
      "3125     1\n",
      "9836     0\n",
      "302      1\n",
      "9872     0\n",
      "4638     0\n",
      "9309     0\n",
      "4391     1\n",
      "4597     1\n",
      "4265     0\n",
      "6641     1\n",
      "956      0\n",
      "7763     0\n",
      "5985     0\n",
      "2646     1\n",
      "6893     1\n",
      "10349    1\n",
      "5908     0\n",
      "5930     0\n",
      "5980     0\n",
      "2164     1\n",
      "10161    1\n",
      "4146     0\n",
      "4472     1\n",
      "5665     1\n",
      "8088     0\n",
      "912      1\n",
      "        ..\n",
      "6204     0\n",
      "6686     1\n",
      "5114     0\n",
      "7090     1\n",
      "1933     0\n",
      "3484     1\n",
      "509      1\n",
      "3027     0\n",
      "2289     1\n",
      "2615     0\n",
      "3783     1\n",
      "6275     0\n",
      "5142     1\n",
      "3688     0\n",
      "500      0\n",
      "860      0\n",
      "1231     0\n",
      "3742     0\n",
      "5449     0\n",
      "9909     0\n",
      "3889     0\n",
      "2121     1\n",
      "443      1\n",
      "8147     1\n",
      "10295    0\n",
      "7839     0\n",
      "3603     0\n",
      "5959     0\n",
      "5426     0\n",
      "7608     0\n",
      "Name: class_label, Length: 8700, dtype: int64\n"
     ]
    }
   ],
   "source": [
    "print (y_train)"
   ]
  },
  {
   "cell_type": "code",
   "execution_count": 32,
   "metadata": {},
   "outputs": [
    {
     "name": "stdout",
     "output_type": "stream",
     "text": [
      "(8700, 18738)\n",
      "(2176, 18738)\n"
     ]
    }
   ],
   "source": [
    "## MANDATORY FOR BOW EMBEDDING\n",
    "## [EMBEDDING] Tranform Tweets to BOW Embedding\n",
    "\n",
    "from sklearn.feature_extraction.text import CountVectorizer\n",
    "\n",
    "count_vectorizer = CountVectorizer(analyzer='word', token_pattern=r'\\w+')\n",
    "\n",
    "bow = dict()\n",
    "bow[\"train\"] = (count_vectorizer.fit_transform(X_train), y_train)\n",
    "bow[\"test\"]  = (count_vectorizer.transform(X_test), y_test)\n",
    "print(bow[\"train\"][0].shape)\n",
    "print(bow[\"test\"][0].shape)"
   ]
  },
  {
   "cell_type": "code",
   "execution_count": 34,
   "metadata": {},
   "outputs": [
    {
     "name": "stdout",
     "output_type": "stream",
     "text": [
      "DONE [Load Word2Vec Pretrained Corpus]\n"
     ]
    }
   ],
   "source": [
    "## MANDATORY FOR WORD2VEC EMBEDDING\n",
    "## [EMBEDDING] Load Word2Vec Pretrained Corpus\n",
    "\n",
    "word2vec_path = \"GoogleNews-vectors-negative300.bin\"\n",
    "word2vec = gensim.models.KeyedVectors.load_word2vec_format(word2vec_path, binary=True)\n",
    "\n",
    "print ('DONE [Load Word2Vec Pretrained Corpus]')"
   ]
  },
  {
   "cell_type": "code",
   "execution_count": 37,
   "metadata": {},
   "outputs": [
    {
     "name": "stdout",
     "output_type": "stream",
     "text": [
      "[EMBEDDING] Get Word2Vec values for a Tweet\n"
     ]
    }
   ],
   "source": [
    "## MANDATORY FOR WORD2VEC EMBEDDING\n",
    "## [EMBEDDING] Get Word2Vec values for a Tweet\n",
    "\n",
    "def get_average_word2vec(tokens_list, vector, generate_missing=False, k=300):\n",
    "    if len(tokens_list)<1:\n",
    "        return np.zeros(k)\n",
    "    if generate_missing:\n",
    "        vectorized = [vector[word] if word in vector else np.random.rand(k) for word in tokens_list]\n",
    "    else:\n",
    "        vectorized = [vector[word] if word in vector else np.zeros(k) for word in tokens_list]\n",
    "    length = len(vectorized)\n",
    "    summed = np.sum(vectorized, axis=0)\n",
    "    averaged = np.divide(summed, length)\n",
    "    return averaged\n",
    "\n",
    "def get_word2vec_embeddings(vectors, clean_questions_tokens, generate_missing=False):\n",
    "    embeddings = clean_questions_tokens.apply(lambda x: get_average_word2vec(x, vectors, \n",
    "                                                                                generate_missing=generate_missing))\n",
    "    return list(embeddings)\n",
    "\n",
    "# Call the functions\n",
    "embeddings = get_word2vec_embeddings(word2vec, clean_questions['tokens'])\n",
    "\n",
    "print ('[EMBEDDING] Get Word2Vec values for a Tweet')"
   ]
  },
  {
   "cell_type": "code",
   "execution_count": 58,
   "metadata": {},
   "outputs": [
    {
     "name": "stdout",
     "output_type": "stream",
     "text": [
      "DONE - [CLASSIFY] Word2Vec Train Test Split]\n"
     ]
    }
   ],
   "source": [
    "## MANDATORY FOR WORD2VEC EMBEDDING\n",
    "## [CLASSIFY] Word2Vec Train Test Split\n",
    "\n",
    "X_train_w2v, X_test_w2v, y_train_w2v, y_test_w2v = train_test_split(embeddings, list_labels, \n",
    "                                                                    test_size=0.2, random_state=40)\n",
    "\n",
    "w2v = dict()\n",
    "w2v[\"train\"] = (X_train_w2v, y_train_w2v)\n",
    "w2v[\"test\"]  = (X_test_w2v, y_test_w2v)\n",
    "\n",
    "print ('DONE - [CLASSIFY] Word2Vec Train Test Split]')"
   ]
  },
  {
   "cell_type": "code",
   "execution_count": 42,
   "metadata": {},
   "outputs": [
    {
     "name": "stdout",
     "output_type": "stream",
     "text": [
      "DONE - [CLASSIFY] Initialize Logistic Regression\n"
     ]
    }
   ],
   "source": [
    "## MANDATORY FOR LOGISTIC REGRESSION CLASSIFIER\n",
    "## [CLASSIFY] Initialize Logistic Regression\n",
    "\n",
    "from sklearn.linear_model import LogisticRegression\n",
    "\n",
    "lr_classifier = LogisticRegression(C=30.0, class_weight='balanced', solver='newton-cg', \n",
    "                         multi_class='multinomial', random_state=40)\n",
    "\n",
    "print ('DONE - [CLASSIFY] Initialize Logistic Regression')"
   ]
  },
  {
   "cell_type": "code",
   "execution_count": 64,
   "metadata": {},
   "outputs": [
    {
     "name": "stdout",
     "output_type": "stream",
     "text": [
      "[CLASSIFY] Initialize Support Vector Machine Classifier\n"
     ]
    }
   ],
   "source": [
    "## MANDATORY FOR SUPPORT VECTOR MACHINE CLASSIFIER\n",
    "## [CLASSIFY] Initialize Support Vector Machine Classifier\n",
    "\n",
    "from sklearn.svm import LinearSVC\n",
    "\n",
    "lsvm_classifier = LinearSVC(C=1.0, class_weight='balanced', multi_class='ovr', random_state=40)\n",
    "\n",
    "print ('[CLASSIFY] Initialize Support Vector Machine Classifier')"
   ]
  },
  {
   "cell_type": "code",
   "execution_count": 59,
   "metadata": {},
   "outputs": [
    {
     "name": "stdout",
     "output_type": "stream",
     "text": [
      "DONE - [CLASSIFY] Initialize Decision Tree\n"
     ]
    }
   ],
   "source": [
    "## MANDATORY FOR DECISION TREE\n",
    "## [CLASSIFY] Initialize Decision Tree\n",
    "\n",
    "from sklearn.tree import DecisionTreeClassifier\n",
    "\n",
    "dt_classifier = DecisionTreeClassifier(criterion = \"entropy\", random_state = 100,\n",
    " max_depth=3, min_samples_leaf=5)\n",
    "\n",
    "print ('DONE - [CLASSIFY] Initialize Decision Tree')"
   ]
  },
  {
   "cell_type": "code",
   "execution_count": 51,
   "metadata": {},
   "outputs": [
    {
     "name": "stdout",
     "output_type": "stream",
     "text": [
      "DONE - [EVALUATE] Prepare Metrics\n"
     ]
    }
   ],
   "source": [
    "## MANDATORY \n",
    "## [EVALUATE] Prepare Metrics\n",
    "\n",
    "from sklearn.metrics import accuracy_score, f1_score, precision_score, recall_score, classification_report\n",
    "\n",
    "def get_metrics(y_test, y_predicted):  \n",
    "    # true positives / (true positives+false positives)\n",
    "    precision = precision_score(y_test, y_predicted, pos_label=None,\n",
    "                                    average='weighted')             \n",
    "    # true positives / (true positives + false negatives)\n",
    "    recall = recall_score(y_test, y_predicted, pos_label=None,\n",
    "                              average='weighted')\n",
    "    \n",
    "    # harmonic mean of precision and recall\n",
    "    f1 = f1_score(y_test, y_predicted, pos_label=None, average='weighted')\n",
    "    \n",
    "    # true positives + true negatives/ total\n",
    "    accuracy = accuracy_score(y_test, y_predicted)\n",
    "    return accuracy, precision, recall, f1\n",
    "\n",
    "print ('DONE - [EVALUATE] Prepare Metrics')"
   ]
  },
  {
   "cell_type": "code",
   "execution_count": 52,
   "metadata": {},
   "outputs": [
    {
     "name": "stdout",
     "output_type": "stream",
     "text": [
      "DONE - [EVALUATE] Confusion Matrix\n"
     ]
    }
   ],
   "source": [
    "## MANDATORY\n",
    "## [EVALUATE] Confusion Matrix\n",
    "\n",
    "from sklearn.metrics import confusion_matrix\n",
    "\n",
    "def plot_confusion_matrix(cm, classes,\n",
    "                          normalize=False,\n",
    "                          title='Confusion matrix',\n",
    "                          cmap=plt.cm.winter):\n",
    "    if normalize:\n",
    "        cm = cm.astype('float') / cm.sum(axis=1)[:, np.newaxis]\n",
    "    plt.imshow(cm, interpolation='nearest', cmap=cmap)\n",
    "    plt.title(title, fontsize=30)\n",
    "    plt.colorbar()\n",
    "    tick_marks = np.arange(len(classes))\n",
    "    plt.xticks(tick_marks, classes, fontsize=20)\n",
    "    plt.yticks(tick_marks, classes, fontsize=20)\n",
    "    \n",
    "    fmt = '.2f' if normalize else 'd'\n",
    "    thresh = cm.max() / 2.\n",
    "\n",
    "    for i, j in itertools.product(range(cm.shape[0]), range(cm.shape[1])):\n",
    "        plt.text(j, i, format(cm[i, j], fmt), horizontalalignment=\"center\", \n",
    "                 color=\"white\" if cm[i, j] < thresh else \"black\", fontsize=40)\n",
    "    \n",
    "    plt.tight_layout()\n",
    "    plt.ylabel('True label', fontsize=30)\n",
    "    plt.xlabel('Predicted label', fontsize=30)\n",
    "\n",
    "    return plt\n",
    "\n",
    "print ('DONE - [EVALUATE] Confusion Matrix')"
   ]
  },
  {
   "cell_type": "code",
   "execution_count": 53,
   "metadata": {},
   "outputs": [
    {
     "name": "stdout",
     "output_type": "stream",
     "text": [
      "DONE - [EMBEDDING] CHOOSE EMBEDDING\n"
     ]
    }
   ],
   "source": [
    "## MANDATORY \n",
    "## [EMBEDDING] CHOOSE EMBEDDING\n",
    "\n",
    "embedding = bow                  # bow | tfidf | w2v\n",
    "\n",
    "print ('DONE - [EMBEDDING] CHOOSE EMBEDDING')"
   ]
  },
  {
   "cell_type": "code",
   "execution_count": 68,
   "metadata": {},
   "outputs": [
    {
     "name": "stdout",
     "output_type": "stream",
     "text": [
      "DONE - [CLASSIFY] CHOOSE CLASSIFIER\n"
     ]
    }
   ],
   "source": [
    "## MANDATORY \n",
    "## [CLASSIFY] CHOOSE CLASSIFIER\n",
    "\n",
    "classifier = lsvm_classifier     # lr_classifier | lsvm_classifier | nb_classifier| dt_classifier\n",
    "\n",
    "print ('DONE - [CLASSIFY] CHOOSE CLASSIFIER')"
   ]
  },
  {
   "cell_type": "code",
   "execution_count": 69,
   "metadata": {},
   "outputs": [
    {
     "name": "stdout",
     "output_type": "stream",
     "text": [
      "DONE - [CLASSIFY] Train Classifier on Embeddings\n"
     ]
    }
   ],
   "source": [
    "## MANDATORY \n",
    "## [CLASSIFY] Train Classifier on Embeddings\n",
    "\n",
    "classifier.fit(*embedding[\"train\"])\n",
    "y_predict = classifier.predict(embedding[\"test\"][0])\n",
    "\n",
    "print ('DONE - [CLASSIFY] Train Classifier on Embeddings')"
   ]
  },
  {
   "cell_type": "code",
   "execution_count": 70,
   "metadata": {},
   "outputs": [
    {
     "name": "stdout",
     "output_type": "stream",
     "text": [
      "accuracy = 0.764, precision = 0.761, recall = 0.764, f1 = 0.762\n"
     ]
    }
   ],
   "source": [
    "## MANDATORY \n",
    "## [EVALUATE] Score chosen model\n",
    "\n",
    "accuracy, precision, recall, f1 = get_metrics(embedding[\"test\"][1], y_predict)\n",
    "print(\"accuracy = %.3f, precision = %.3f, recall = %.3f, f1 = %.3f\" % (accuracy, precision, recall, f1))"
   ]
  },
  {
   "cell_type": "code",
   "execution_count": 71,
   "metadata": {},
   "outputs": [
    {
     "data": {
      "image/png": "[encoded data removed]",
      "text/plain": [
       "<Figure size 720x720 with 2 Axes>"
      ]
     },
     "metadata": {},
     "output_type": "display_data"
    }
   ],
   "source": [
    "## MANDATORY \n",
    "## [EVALUATE] Confusion matrix for chosen model\n",
    "\n",
    "cm = confusion_matrix(embedding[\"test\"][1], y_predict)\n",
    "fig = plt.figure(figsize=(10, 10))\n",
    "plot = plot_confusion_matrix(cm, classes=['Irrelevant','Disaster', 'Unsure'], normalize=False, title='Confusion Matrix')\n",
    "plt.show()"
   ]
  },
  {
   "cell_type": "code",
   "execution_count": 2,
   "metadata": {},
   "outputs": [],
   "source": [
    "import nltk\n"
   ]
  },
  {
   "cell_type": "code",
   "execution_count": null,
   "metadata": {},
   "outputs": [],
   "source": []
  }
 ],
 "metadata": {
  "kernelspec": {
   "display_name": "Python 3",
   "language": "python",
   "name": "python3"
  },
  "language_info": {
   "codemirror_mode": {
    "name": "ipython",
    "version": 3
   },
   "file_extension": ".py",
   "mimetype": "text/x-python",
   "name": "python",
   "nbconvert_exporter": "python",
   "pygments_lexer": "ipython3",
   "version": "3.6.5"
  }
 },
 "nbformat": 4,
 "nbformat_minor": 2
}
